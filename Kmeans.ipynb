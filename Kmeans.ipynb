{
  "nbformat": 4,
  "nbformat_minor": 0,
  "metadata": {
    "colab": {
      "name": "Untitled13.ipynb",
      "provenance": []
    },
    "kernelspec": {
      "name": "python3",
      "display_name": "Python 3"
    }
  },
  "cells": [
    {
      "cell_type": "code",
      "metadata": {
        "id": "f2yncBRKZkxy"
      },
      "source": [
        "import csv,sys\r\n",
        "import math,random\r\n",
        "import subprocess\r\n",
        "import numpy as np\r\n",
        "import pandas as pd\r\n",
        "import functools \r\n",
        "from functools import reduce\r\n",
        "\r\n",
        "from sklearn.metrics import roc_curve"
      ],
      "execution_count": 31,
      "outputs": []
    },
    {
      "cell_type": "code",
      "metadata": {
        "id": "XmZm0oq_a203"
      },
      "source": [
        "data = pd.read_csv(\"DSL-StrongPasswordData.csv\")"
      ],
      "execution_count": 32,
      "outputs": []
    },
    {
      "cell_type": "code",
      "metadata": {
        "id": "16C5W_Epa4uw"
      },
      "source": [
        "subjects = data[\"subject\"].unique()"
      ],
      "execution_count": 33,
      "outputs": []
    },
    {
      "cell_type": "code",
      "metadata": {
        "id": "Jusm3fCla6oJ"
      },
      "source": [
        "def evaluateEER(user_scores, imposter_scores):\r\n",
        "    labels = [0]*len(user_scores) + [1]*len(imposter_scores)\r\n",
        "    fpr, tpr, thresholds = roc_curve(labels, user_scores + imposter_scores)\r\n",
        "    missrates = 1 - tpr\r\n",
        "    farates = fpr\r\n",
        "    dists = missrates - farates\r\n",
        "    idx1 = np.argmin(dists[dists >= 0])\r\n",
        "    idx2 = np.argmax(dists[dists < 0])\r\n",
        "    x = [missrates[idx1], farates[idx1]]\r\n",
        "    y = [missrates[idx2], farates[idx2]]\r\n",
        "    a = ( x[0] - x[1] ) / ( y[1] - x[1] - y[0] + x[0] )\r\n",
        "    eer = x[0] + a * ( y[0] - x[0] )\r\n",
        "    return eer"
      ],
      "execution_count": 34,
      "outputs": []
    },
    {
      "cell_type": "code",
      "metadata": {
        "id": "o0uDAq_ya-u3"
      },
      "source": [
        "class Point:\r\n",
        "    #An point in n dimensional space\r\n",
        "    def __init__(self, coords):\r\n",
        "    #coords - A list of values, one per dimension\r\n",
        "        self.coords = coords\r\n",
        "        self.n = len(coords)\r\n",
        "\r\n",
        "    def __repr__(self):\r\n",
        "        return str(self.coords)"
      ],
      "execution_count": 35,
      "outputs": []
    },
    {
      "cell_type": "code",
      "metadata": {
        "id": "2rrURvHjbIGP"
      },
      "source": [
        "class Cluster:\r\n",
        "    #A set of points and their centroid\r\n",
        "\r\n",
        "    def __init__(self, points):\r\n",
        "    #points - A list of point objects\r\n",
        "\r\n",
        "        if len(points) == 0: \r\n",
        "            raise Exception(\"ILLEGAL: empty cluster\")\r\n",
        "        # The points that belong to this cluster\r\n",
        "        self.points = points\r\n",
        "\r\n",
        "        # The dimensionality of the points in this cluster\r\n",
        "        self.n = points[0].n\r\n",
        "    \r\n",
        "        # Assert that all points are of the same dimensionality\r\n",
        "        for p in points:\r\n",
        "            if p.n != self.n: raise Exception(\"ILLEGAL: wrong dimensions\")\r\n",
        "    \r\n",
        "        # Set up the initial centroid (this is usually based off one point)\r\n",
        "        self.centroid = self.calculateCentroid()\r\n",
        "\r\n",
        "    def __repr__(self):\r\n",
        "    #String representation of this object\r\n",
        "        return str(self.points)\r\n",
        "\r\n",
        "    def update(self, points):\r\n",
        "    #Returns the distance between the previous centroid and the new after\r\n",
        "    #recalculating and storing the new centroid.\r\n",
        "        old_centroid = self.centroid\r\n",
        "        self.points = points\r\n",
        "        self.centroid = self.calculateCentroid()\r\n",
        "        shift = getDistance(old_centroid, self.centroid) \r\n",
        "        return shift\r\n",
        "\r\n",
        "    def calculateCentroid(self):\r\n",
        "    #Finds a virtual center point for a group of n-dimensional points\r\n",
        "        numPoints = len(self.points)\r\n",
        "        # Get a list of all coordinates in this cluster\r\n",
        "        coords = [p.coords for p in self.points]\r\n",
        "        # Reformat that so all x's are together, all y'z etc.\r\n",
        "        unzipped = zip(*coords)\r\n",
        "        # Calculate the mean for each dimension\r\n",
        "        centroid_coords = [math.fsum(dList)/numPoints for dList in unzipped]\r\n",
        "\r\n",
        "        return Point(centroid_coords)"
      ],
      "execution_count": 36,
      "outputs": []
    },
    {
      "cell_type": "code",
      "metadata": {
        "id": "iE4AVzjbbMW0"
      },
      "source": [
        "def getDistance(a, b):\r\n",
        "\r\n",
        "#Euclidean distance between two n-dimensional points.\r\n",
        "#Note: This can be very slow and does not scale well\r\n",
        "    #if a.n != b.n:\r\n",
        "    #    raise Exception(\"ILLEGAL: non comparable points\")\r\n",
        "\r\n",
        "    ret = reduce(lambda x,y: x + pow((a.coords[y]-b.coords[y]), 2),range(a.n),0.0)\r\n",
        "    return math.sqrt(ret)"
      ],
      "execution_count": 37,
      "outputs": []
    },
    {
      "cell_type": "code",
      "metadata": {
        "id": "6IJnPng8bPmN"
      },
      "source": [
        "def testing(clusters,test_genuine,test_imposter):\r\n",
        "    user_scores = []\r\n",
        "    imposter_scores = []\r\n",
        "    for i in range(len(test_genuine)):\r\n",
        "        min_distance = 1e+10\r\n",
        "        for j in range(len(clusters)):\r\n",
        "            cur_score = getDistance(test_genuine[i],clusters[j].centroid)\r\n",
        "            if cur_score < min_distance:\r\n",
        "                min_distance = cur_score\r\n",
        "        user_scores.append(min_distance)\r\n",
        "            \r\n",
        "    for i in range(len(test_imposter)):\r\n",
        "        min_distance = 1e+10\r\n",
        "        for j in range(len(clusters)):\r\n",
        "            cur_score = getDistance(test_imposter[i],clusters[j].centroid)\r\n",
        "            if cur_score < min_distance:\r\n",
        "                min_distance = cur_score\r\n",
        "        imposter_scores.append(min_distance)\r\n",
        "    return user_scores,imposter_scores"
      ],
      "execution_count": 38,
      "outputs": []
    },
    {
      "cell_type": "code",
      "metadata": {
        "id": "3Let2MQabSTJ"
      },
      "source": [
        "def kmeans(points, k, cutoff):\r\n",
        "\r\n",
        "    # Pick out k random points to use as our initial centroids\r\n",
        "    initial = random.sample(points, k)\r\n",
        "\r\n",
        "    # Create k clusters using those centroids\r\n",
        "    clusters = [Cluster([p]) for p in initial]\r\n",
        "\r\n",
        "    # Loop through the dataset until the clusters stabilize\r\n",
        "    loopCounter = 0\r\n",
        "    while True:\r\n",
        "        # Create a list of lists to hold the points in each cluster\r\n",
        "        lists = [ [] for c in clusters]\r\n",
        "        clusterCount = len(clusters)\r\n",
        "\r\n",
        "        # Start counting loops\r\n",
        "        loopCounter += 1\r\n",
        "        # For every point in the dataset ...\r\n",
        "        for p in points:\r\n",
        "            # Get the distance between that point and the centroid of the first\r\n",
        "            # cluster.\r\n",
        "            smallest_distance = getDistance(p, clusters[0].centroid)\r\n",
        "\r\n",
        "            # Set the cluster this point belongs to\r\n",
        "            clusterIndex = 0\r\n",
        "\r\n",
        "            # For the remainder of the clusters ...\r\n",
        "            for i in range(clusterCount - 1):\r\n",
        "                # calculate the distance of that point to each other cluster's\r\n",
        "                # centroid.\r\n",
        "                distance = getDistance(p, clusters[i+1].centroid)\r\n",
        "                # If it's closer to that cluster's centroid update what we\r\n",
        "                # think the smallest distance is, and set the point to belong\r\n",
        "                # to that cluster\r\n",
        "                if distance < smallest_distance:\r\n",
        "                    smallest_distance = distance\r\n",
        "                    clusterIndex = i+1\r\n",
        "            lists[clusterIndex].append(p)\r\n",
        "\r\n",
        "        # Set our biggest_shift to zero for this iteration\r\n",
        "        biggest_shift = 0.0\r\n",
        "\r\n",
        "        # As many times as there are clusters ...\r\n",
        "        for i in range(clusterCount):\r\n",
        "            # Calculate how far the centroid moved in this iteration\r\n",
        "            shift = clusters[i].update(lists[i])\r\n",
        "            # Keep track of the largest move from all cluster centroid updates\r\n",
        "            biggest_shift = max(biggest_shift, shift)\r\n",
        "\r\n",
        "        # If the centroids have stopped moving much, say we're done!\r\n",
        "        if biggest_shift < cutoff:\r\n",
        "            print (\"Converged after %s iterations\" )\r\n",
        "            break\r\n",
        "    return clusters"
      ],
      "execution_count": 39,
      "outputs": []
    },
    {
      "cell_type": "code",
      "metadata": {
        "id": "ClOimhwObVmt"
      },
      "source": [
        "def evaluate():\r\n",
        "        eers = []\r\n",
        "        k = 3\r\n",
        "        cut_off = 0.5\r\n",
        "        for subject in subjects:\r\n",
        "            \r\n",
        "            user_scores = []\r\n",
        "            imposter_scores = []\r\n",
        "    \r\n",
        "            # Consider current subject as genuine and rest as imposters\r\n",
        "            genuine_user_data = data.loc[data.subject == subject, \"H.period\":\"H.Return\"]\r\n",
        "            imposter_data = data.loc[data.subject != subject, :]\r\n",
        "    \r\n",
        "            # genuine user's first 200 time vectors for training\r\n",
        "            print(len(genuine_user_data),len(imposter_data))\r\n",
        "            train = genuine_user_data[:300]\r\n",
        "            train = train.values\r\n",
        "            train = np.array(train)\r\n",
        "            train = list(train)\r\n",
        "            temp = []\r\n",
        "            for p in train:\r\n",
        "                temp.append(list(p))\r\n",
        "            train = temp\r\n",
        "            points = []\r\n",
        "            for p in train:\r\n",
        "                points.append(Point([float(elements) for elements in p]))\r\n",
        "            temp = []\r\n",
        "            # True set (200 records)\r\n",
        "            test_genuine = genuine_user_data[300:]\r\n",
        "            test_genuine = test_genuine.values\r\n",
        "            test_genuine = np.array(test_genuine)\r\n",
        "            test_genuine = list(test_genuine)\r\n",
        "            for p in test_genuine:\r\n",
        "                temp.append(list(p))\r\n",
        "            test_genuine = temp\r\n",
        "            # False set (250 records, 5 per imposter, 50 imposters in all)\r\n",
        "            temp = []\r\n",
        "            test_imposter = imposter_data.groupby(\"subject\").head(5).loc[:, \"H.period\":\"H.Return\"]\r\n",
        "            test_imposter = test_imposter.values\r\n",
        "            test_imposter = np.array(test_imposter)\r\n",
        "            test_imposter = list(test_imposter)\r\n",
        "            for p in test_imposter:\r\n",
        "                temp.append(list(p))\r\n",
        "            test_imposter = temp\r\n",
        "            points_test_genuine = []\r\n",
        "            points_test_imposter = []\r\n",
        "            for p in test_genuine:\r\n",
        "                points_test_genuine.append(Point([float(elements) for elements in p]))\r\n",
        "            for p in test_imposter:\r\n",
        "                points_test_imposter.append(Point([float(elements) for elements in p]))\r\n",
        "            clusters = kmeans(points,k,cut_off)\r\n",
        "            \r\n",
        "            user_scores,imposter_scores = testing(clusters,points_test_genuine,points_test_imposter)\r\n",
        "    \r\n",
        "            eers.append(evaluateEER(user_scores, imposter_scores))\r\n",
        "        \r\n",
        "        return np.mean(eers), np.std(eers)"
      ],
      "execution_count": 44,
      "outputs": []
    },
    {
      "cell_type": "code",
      "metadata": {
        "colab": {
          "base_uri": "https://localhost:8080/"
        },
        "id": "YXb7udaAbjIp",
        "outputId": "501ba9ff-7f9a-44c2-9b89-2bdf729a856d"
      },
      "source": [
        "evaluate()"
      ],
      "execution_count": 45,
      "outputs": [
        {
          "output_type": "stream",
          "text": [
            "400 20000\n",
            "Converged after %s iterations\n",
            "400 20000\n",
            "Converged after %s iterations\n",
            "400 20000\n",
            "Converged after %s iterations\n",
            "400 20000\n",
            "Converged after %s iterations\n",
            "400 20000\n",
            "Converged after %s iterations\n",
            "400 20000\n",
            "Converged after %s iterations\n",
            "400 20000\n",
            "Converged after %s iterations\n",
            "400 20000\n",
            "Converged after %s iterations\n",
            "400 20000\n",
            "Converged after %s iterations\n",
            "400 20000\n",
            "Converged after %s iterations\n",
            "400 20000\n",
            "Converged after %s iterations\n",
            "400 20000\n",
            "Converged after %s iterations\n",
            "400 20000\n",
            "Converged after %s iterations\n",
            "400 20000\n",
            "Converged after %s iterations\n",
            "400 20000\n",
            "Converged after %s iterations\n",
            "400 20000\n",
            "Converged after %s iterations\n",
            "400 20000\n",
            "Converged after %s iterations\n",
            "400 20000\n",
            "Converged after %s iterations\n",
            "400 20000\n",
            "Converged after %s iterations\n",
            "400 20000\n",
            "Converged after %s iterations\n",
            "400 20000\n",
            "Converged after %s iterations\n",
            "400 20000\n",
            "Converged after %s iterations\n",
            "400 20000\n",
            "Converged after %s iterations\n",
            "400 20000\n",
            "Converged after %s iterations\n",
            "400 20000\n",
            "Converged after %s iterations\n",
            "400 20000\n",
            "Converged after %s iterations\n",
            "400 20000\n",
            "Converged after %s iterations\n",
            "400 20000\n",
            "Converged after %s iterations\n",
            "400 20000\n",
            "Converged after %s iterations\n",
            "400 20000\n",
            "Converged after %s iterations\n",
            "400 20000\n",
            "Converged after %s iterations\n",
            "400 20000\n",
            "Converged after %s iterations\n",
            "400 20000\n",
            "Converged after %s iterations\n",
            "400 20000\n",
            "Converged after %s iterations\n",
            "400 20000\n",
            "Converged after %s iterations\n",
            "400 20000\n",
            "Converged after %s iterations\n",
            "400 20000\n",
            "Converged after %s iterations\n",
            "400 20000\n",
            "Converged after %s iterations\n",
            "400 20000\n",
            "Converged after %s iterations\n",
            "400 20000\n",
            "Converged after %s iterations\n",
            "400 20000\n",
            "Converged after %s iterations\n",
            "400 20000\n",
            "Converged after %s iterations\n",
            "400 20000\n",
            "Converged after %s iterations\n",
            "400 20000\n",
            "Converged after %s iterations\n",
            "400 20000\n",
            "Converged after %s iterations\n",
            "400 20000\n",
            "Converged after %s iterations\n",
            "400 20000\n",
            "Converged after %s iterations\n",
            "400 20000\n",
            "Converged after %s iterations\n",
            "400 20000\n",
            "Converged after %s iterations\n",
            "400 20000\n",
            "Converged after %s iterations\n",
            "400 20000\n",
            "Converged after %s iterations\n"
          ],
          "name": "stdout"
        },
        {
          "output_type": "execute_result",
          "data": {
            "text/plain": [
              "(0.14474924002850004, 0.07318146216396529)"
            ]
          },
          "metadata": {
            "tags": []
          },
          "execution_count": 45
        }
      ]
    },
    {
      "cell_type": "code",
      "metadata": {
        "id": "vVUlNBwjblRL"
      },
      "source": [
        ""
      ],
      "execution_count": null,
      "outputs": []
    }
  ]
}
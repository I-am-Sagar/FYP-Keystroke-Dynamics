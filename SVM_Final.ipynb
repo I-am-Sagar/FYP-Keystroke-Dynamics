{
  "nbformat": 4,
  "nbformat_minor": 0,
  "metadata": {
    "colab": {
      "name": "Untitled12.ipynb",
      "provenance": [],
      "toc_visible": true
    },
    "kernelspec": {
      "name": "python3",
      "display_name": "Python 3"
    }
  },
  "cells": [
    {
      "cell_type": "markdown",
      "metadata": {
        "id": "I1SmOieaMsLS"
      },
      "source": [
        "# **BINARY CLASS SVM**"
      ]
    },
    {
      "cell_type": "markdown",
      "metadata": {
        "id": "0DySTeWcPCGw"
      },
      "source": [
        "**One vs ALL**"
      ]
    },
    {
      "cell_type": "code",
      "metadata": {
        "id": "x_OtYo9YNIQH"
      },
      "source": [
        "import numpy as np\r\n",
        "import pandas as pd\r\n",
        "from sklearn.model_selection import train_test_split\r\n",
        "from sklearn.svm import SVC\r\n",
        "import csv,sys\r\n",
        "import math,random\r\n",
        "import subprocess\r\n",
        "from sklearn.metrics import roc_curve\r\n",
        "from sklearn.svm import OneClassSVM\r\n",
        "from sklearn.svm import SVC"
      ],
      "execution_count": 87,
      "outputs": []
    },
    {
      "cell_type": "code",
      "metadata": {
        "colab": {
          "base_uri": "https://localhost:8080/"
        },
        "id": "4PzgdTgwNlYH",
        "outputId": "cb657013-2f7d-49a9-b9e7-a0a514c38162"
      },
      "source": [
        "df = pd.read_csv(\"DSL-StrongPasswordData.csv\")\r\n",
        "s002_data = df.subject.apply(lambda i: 1 if i=='s002' else 0 )\r\n",
        "print(sum(s002_data))\r\n",
        "df['result'] = s002_data\r\n",
        "df.head()\r\n",
        "df = df.drop(['subject','sessionIndex','rep'],axis = 1)\r\n",
        "X = df.drop(['result'],axis = 1)\r\n",
        "y = df.result\r\n",
        "X_train, X_test, y_train, y_test = train_test_split(X,y,test_size = 0.2)"
      ],
      "execution_count": 15,
      "outputs": [
        {
          "output_type": "stream",
          "text": [
            "400\n"
          ],
          "name": "stdout"
        }
      ]
    },
    {
      "cell_type": "code",
      "metadata": {
        "colab": {
          "base_uri": "https://localhost:8080/"
        },
        "id": "t_ggkMNRN2H2",
        "outputId": "5fe30eac-f11c-4ddf-8d91-b4455a6f0dd0"
      },
      "source": [
        "#model = SVC(kernel='rbf') 0.98088\r\n",
        "#model = SVC(kernel='poly') 0.97990\r\n",
        "#model = SVC(kernel='linear') 0.9786\r\n",
        "model = SVC(kernel='sigmoid') 0.9612\r\n",
        "model.fit(X_train,y_train)\r\n",
        "model.score(X_test,y_test)"
      ],
      "execution_count": 17,
      "outputs": [
        {
          "output_type": "execute_result",
          "data": {
            "text/plain": [
              "0.9612745098039216"
            ]
          },
          "metadata": {
            "tags": []
          },
          "execution_count": 17
        }
      ]
    },
    {
      "cell_type": "markdown",
      "metadata": {
        "id": "3VjsS_IWO_Sg"
      },
      "source": [
        " **One vs Random of same size**"
      ]
    },
    {
      "cell_type": "code",
      "metadata": {
        "colab": {
          "base_uri": "https://localhost:8080/",
          "height": 215
        },
        "id": "UtZSEdoROdfY",
        "outputId": "dc45b13e-fcb8-4a85-ae01-1adc4f28abdb"
      },
      "source": [
        "data = pd.read_csv(\"DSL-StrongPasswordData.csv\")\r\n",
        "data.head()"
      ],
      "execution_count": 18,
      "outputs": [
        {
          "output_type": "execute_result",
          "data": {
            "text/html": [
              "<div>\n",
              "<style scoped>\n",
              "    .dataframe tbody tr th:only-of-type {\n",
              "        vertical-align: middle;\n",
              "    }\n",
              "\n",
              "    .dataframe tbody tr th {\n",
              "        vertical-align: top;\n",
              "    }\n",
              "\n",
              "    .dataframe thead th {\n",
              "        text-align: right;\n",
              "    }\n",
              "</style>\n",
              "<table border=\"1\" class=\"dataframe\">\n",
              "  <thead>\n",
              "    <tr style=\"text-align: right;\">\n",
              "      <th></th>\n",
              "      <th>subject</th>\n",
              "      <th>sessionIndex</th>\n",
              "      <th>rep</th>\n",
              "      <th>H.period</th>\n",
              "      <th>DD.period.t</th>\n",
              "      <th>UD.period.t</th>\n",
              "      <th>H.t</th>\n",
              "      <th>DD.t.i</th>\n",
              "      <th>UD.t.i</th>\n",
              "      <th>H.i</th>\n",
              "      <th>DD.i.e</th>\n",
              "      <th>UD.i.e</th>\n",
              "      <th>H.e</th>\n",
              "      <th>DD.e.five</th>\n",
              "      <th>UD.e.five</th>\n",
              "      <th>H.five</th>\n",
              "      <th>DD.five.Shift.r</th>\n",
              "      <th>UD.five.Shift.r</th>\n",
              "      <th>H.Shift.r</th>\n",
              "      <th>DD.Shift.r.o</th>\n",
              "      <th>UD.Shift.r.o</th>\n",
              "      <th>H.o</th>\n",
              "      <th>DD.o.a</th>\n",
              "      <th>UD.o.a</th>\n",
              "      <th>H.a</th>\n",
              "      <th>DD.a.n</th>\n",
              "      <th>UD.a.n</th>\n",
              "      <th>H.n</th>\n",
              "      <th>DD.n.l</th>\n",
              "      <th>UD.n.l</th>\n",
              "      <th>H.l</th>\n",
              "      <th>DD.l.Return</th>\n",
              "      <th>UD.l.Return</th>\n",
              "      <th>H.Return</th>\n",
              "    </tr>\n",
              "  </thead>\n",
              "  <tbody>\n",
              "    <tr>\n",
              "      <th>0</th>\n",
              "      <td>s002</td>\n",
              "      <td>1</td>\n",
              "      <td>1</td>\n",
              "      <td>0.1491</td>\n",
              "      <td>0.3979</td>\n",
              "      <td>0.2488</td>\n",
              "      <td>0.1069</td>\n",
              "      <td>0.1674</td>\n",
              "      <td>0.0605</td>\n",
              "      <td>0.1169</td>\n",
              "      <td>0.2212</td>\n",
              "      <td>0.1043</td>\n",
              "      <td>0.1417</td>\n",
              "      <td>1.1885</td>\n",
              "      <td>1.0468</td>\n",
              "      <td>0.1146</td>\n",
              "      <td>1.6055</td>\n",
              "      <td>1.4909</td>\n",
              "      <td>0.1067</td>\n",
              "      <td>0.7590</td>\n",
              "      <td>0.6523</td>\n",
              "      <td>0.1016</td>\n",
              "      <td>0.2136</td>\n",
              "      <td>0.1120</td>\n",
              "      <td>0.1349</td>\n",
              "      <td>0.1484</td>\n",
              "      <td>0.0135</td>\n",
              "      <td>0.0932</td>\n",
              "      <td>0.3515</td>\n",
              "      <td>0.2583</td>\n",
              "      <td>0.1338</td>\n",
              "      <td>0.3509</td>\n",
              "      <td>0.2171</td>\n",
              "      <td>0.0742</td>\n",
              "    </tr>\n",
              "    <tr>\n",
              "      <th>1</th>\n",
              "      <td>s002</td>\n",
              "      <td>1</td>\n",
              "      <td>2</td>\n",
              "      <td>0.1111</td>\n",
              "      <td>0.3451</td>\n",
              "      <td>0.2340</td>\n",
              "      <td>0.0694</td>\n",
              "      <td>0.1283</td>\n",
              "      <td>0.0589</td>\n",
              "      <td>0.0908</td>\n",
              "      <td>0.1357</td>\n",
              "      <td>0.0449</td>\n",
              "      <td>0.0829</td>\n",
              "      <td>1.1970</td>\n",
              "      <td>1.1141</td>\n",
              "      <td>0.0689</td>\n",
              "      <td>0.7822</td>\n",
              "      <td>0.7133</td>\n",
              "      <td>0.1570</td>\n",
              "      <td>0.7877</td>\n",
              "      <td>0.6307</td>\n",
              "      <td>0.1066</td>\n",
              "      <td>0.1684</td>\n",
              "      <td>0.0618</td>\n",
              "      <td>0.1412</td>\n",
              "      <td>0.2558</td>\n",
              "      <td>0.1146</td>\n",
              "      <td>0.1146</td>\n",
              "      <td>0.2642</td>\n",
              "      <td>0.1496</td>\n",
              "      <td>0.0839</td>\n",
              "      <td>0.2756</td>\n",
              "      <td>0.1917</td>\n",
              "      <td>0.0747</td>\n",
              "    </tr>\n",
              "    <tr>\n",
              "      <th>2</th>\n",
              "      <td>s002</td>\n",
              "      <td>1</td>\n",
              "      <td>3</td>\n",
              "      <td>0.1328</td>\n",
              "      <td>0.2072</td>\n",
              "      <td>0.0744</td>\n",
              "      <td>0.0731</td>\n",
              "      <td>0.1291</td>\n",
              "      <td>0.0560</td>\n",
              "      <td>0.0821</td>\n",
              "      <td>0.1542</td>\n",
              "      <td>0.0721</td>\n",
              "      <td>0.0808</td>\n",
              "      <td>1.0408</td>\n",
              "      <td>0.9600</td>\n",
              "      <td>0.0892</td>\n",
              "      <td>0.6203</td>\n",
              "      <td>0.5311</td>\n",
              "      <td>0.1454</td>\n",
              "      <td>0.7195</td>\n",
              "      <td>0.5741</td>\n",
              "      <td>0.1365</td>\n",
              "      <td>0.2931</td>\n",
              "      <td>0.1566</td>\n",
              "      <td>0.1621</td>\n",
              "      <td>0.2332</td>\n",
              "      <td>0.0711</td>\n",
              "      <td>0.1172</td>\n",
              "      <td>0.2705</td>\n",
              "      <td>0.1533</td>\n",
              "      <td>0.1085</td>\n",
              "      <td>0.2847</td>\n",
              "      <td>0.1762</td>\n",
              "      <td>0.0945</td>\n",
              "    </tr>\n",
              "    <tr>\n",
              "      <th>3</th>\n",
              "      <td>s002</td>\n",
              "      <td>1</td>\n",
              "      <td>4</td>\n",
              "      <td>0.1291</td>\n",
              "      <td>0.2515</td>\n",
              "      <td>0.1224</td>\n",
              "      <td>0.1059</td>\n",
              "      <td>0.2495</td>\n",
              "      <td>0.1436</td>\n",
              "      <td>0.1040</td>\n",
              "      <td>0.2038</td>\n",
              "      <td>0.0998</td>\n",
              "      <td>0.0900</td>\n",
              "      <td>1.0556</td>\n",
              "      <td>0.9656</td>\n",
              "      <td>0.0913</td>\n",
              "      <td>1.2564</td>\n",
              "      <td>1.1651</td>\n",
              "      <td>0.1454</td>\n",
              "      <td>0.7550</td>\n",
              "      <td>0.6096</td>\n",
              "      <td>0.0956</td>\n",
              "      <td>0.1530</td>\n",
              "      <td>0.0574</td>\n",
              "      <td>0.1457</td>\n",
              "      <td>0.1629</td>\n",
              "      <td>0.0172</td>\n",
              "      <td>0.0866</td>\n",
              "      <td>0.2341</td>\n",
              "      <td>0.1475</td>\n",
              "      <td>0.0845</td>\n",
              "      <td>0.3232</td>\n",
              "      <td>0.2387</td>\n",
              "      <td>0.0813</td>\n",
              "    </tr>\n",
              "    <tr>\n",
              "      <th>4</th>\n",
              "      <td>s002</td>\n",
              "      <td>1</td>\n",
              "      <td>5</td>\n",
              "      <td>0.1249</td>\n",
              "      <td>0.2317</td>\n",
              "      <td>0.1068</td>\n",
              "      <td>0.0895</td>\n",
              "      <td>0.1676</td>\n",
              "      <td>0.0781</td>\n",
              "      <td>0.0903</td>\n",
              "      <td>0.1589</td>\n",
              "      <td>0.0686</td>\n",
              "      <td>0.0805</td>\n",
              "      <td>0.8629</td>\n",
              "      <td>0.7824</td>\n",
              "      <td>0.0742</td>\n",
              "      <td>0.8955</td>\n",
              "      <td>0.8213</td>\n",
              "      <td>0.1243</td>\n",
              "      <td>0.7632</td>\n",
              "      <td>0.6389</td>\n",
              "      <td>0.0430</td>\n",
              "      <td>0.1975</td>\n",
              "      <td>0.1545</td>\n",
              "      <td>0.1312</td>\n",
              "      <td>0.1582</td>\n",
              "      <td>0.0270</td>\n",
              "      <td>0.0884</td>\n",
              "      <td>0.2517</td>\n",
              "      <td>0.1633</td>\n",
              "      <td>0.0903</td>\n",
              "      <td>0.2517</td>\n",
              "      <td>0.1614</td>\n",
              "      <td>0.0818</td>\n",
              "    </tr>\n",
              "  </tbody>\n",
              "</table>\n",
              "</div>"
            ],
            "text/plain": [
              "  subject  sessionIndex  rep  ...  DD.l.Return  UD.l.Return  H.Return\n",
              "0    s002             1    1  ...       0.3509       0.2171    0.0742\n",
              "1    s002             1    2  ...       0.2756       0.1917    0.0747\n",
              "2    s002             1    3  ...       0.2847       0.1762    0.0945\n",
              "3    s002             1    4  ...       0.3232       0.2387    0.0813\n",
              "4    s002             1    5  ...       0.2517       0.1614    0.0818\n",
              "\n",
              "[5 rows x 34 columns]"
            ]
          },
          "metadata": {
            "tags": []
          },
          "execution_count": 18
        }
      ]
    },
    {
      "cell_type": "code",
      "metadata": {
        "colab": {
          "base_uri": "https://localhost:8080/"
        },
        "id": "wgAl0S6bPhRe",
        "outputId": "5280411e-64c9-4df8-fdca-9ae67378ff44"
      },
      "source": [
        "pos_s2data = data[data['subject']=='s002']\r\n",
        "pos_s2data['output'] = pos_s2data.apply(lambda i: 1 if i['subject']=='s002' else 0 , axis = 1) \r\n",
        "\r\n",
        "neg_s2data = data[data['subject']!='s002']\r\n",
        "neg_s2data['output'] = neg_s2data.apply(lambda i: 1 if i['subject']=='s002' else 0 , axis = 1) \r\n",
        "neg_s2data = neg_s2data.sample(400)\r\n",
        "\r\n",
        "s2data = pd.concat([pos_s2data, neg_s2data],ignore_index=True)\r\n",
        "s2data = s2data.sample(frac=1)\r\n",
        "s2data\r\n",
        "\r\n",
        "X = s2data.drop(['subject','sessionIndex','rep','output'],axis = 1)\r\n",
        "y = s2data['output']\r\n",
        "\r\n",
        "X_train, X_test, y_train, y_test = train_test_split(X,y,test_size = 0.20)"
      ],
      "execution_count": 54,
      "outputs": [
        {
          "output_type": "stream",
          "text": [
            "/usr/local/lib/python3.6/dist-packages/ipykernel_launcher.py:2: SettingWithCopyWarning: \n",
            "A value is trying to be set on a copy of a slice from a DataFrame.\n",
            "Try using .loc[row_indexer,col_indexer] = value instead\n",
            "\n",
            "See the caveats in the documentation: https://pandas.pydata.org/pandas-docs/stable/user_guide/indexing.html#returning-a-view-versus-a-copy\n",
            "  \n",
            "/usr/local/lib/python3.6/dist-packages/ipykernel_launcher.py:5: SettingWithCopyWarning: \n",
            "A value is trying to be set on a copy of a slice from a DataFrame.\n",
            "Try using .loc[row_indexer,col_indexer] = value instead\n",
            "\n",
            "See the caveats in the documentation: https://pandas.pydata.org/pandas-docs/stable/user_guide/indexing.html#returning-a-view-versus-a-copy\n",
            "  \"\"\"\n"
          ],
          "name": "stderr"
        }
      ]
    },
    {
      "cell_type": "code",
      "metadata": {
        "colab": {
          "base_uri": "https://localhost:8080/"
        },
        "id": "rZZFGc5wPwdH",
        "outputId": "83e6f322-1427-4070-d50a-6c82f1630990"
      },
      "source": [
        "#model = SVC(kernel='rbf') 0.8625\r\n",
        "#model = SVC(kernel='poly') 0.8533\r\n",
        "#model = SVC(kernel='linear') 0.826\r\n",
        "#model = SVC(kernel='sigmoid') Bad Performance\r\n",
        "model.fit(X_train,y_train)\r\n",
        "model.score(X_test,y_test)"
      ],
      "execution_count": 55,
      "outputs": [
        {
          "output_type": "execute_result",
          "data": {
            "text/plain": [
              "0.83125"
            ]
          },
          "metadata": {
            "tags": []
          },
          "execution_count": 55
        }
      ]
    },
    {
      "cell_type": "markdown",
      "metadata": {
        "id": "2a1x83yBQd3B"
      },
      "source": [
        "# **Considering Test data of 100 from 400 samples of each user**"
      ]
    },
    {
      "cell_type": "code",
      "metadata": {
        "colab": {
          "base_uri": "https://localhost:8080/"
        },
        "id": "NQG3WJPxP3D8",
        "outputId": "78930135-6294-4fae-c153-9f0c82845938"
      },
      "source": [
        "pos_s2data = data[data['subject']=='s002']\r\n",
        "pos_s2data['output'] = pos_s2data.apply(lambda i: 1 if i['subject']=='s002' else 0 , axis = 1) \r\n",
        "pos_s2data = pos_s2data.sample(frac=1)\r\n",
        "pos_s2test_data = pos_s2data[:101]\r\n",
        "pos_s2data = pos_s2data[101:]\r\n",
        "\r\n",
        "neg_s2data = data[data['subject']!='s002']\r\n",
        "neg_s2data['output'] = neg_s2data.apply(lambda i: 1 if i['subject']=='s002' else 0 , axis = 1) \r\n",
        "neg_s2data = neg_s2data.sample(400)\r\n",
        "neg_s2test_data = neg_s2data[:101]\r\n",
        "neg_s2data = neg_s2data[101:]\r\n",
        "\r\n",
        "s2data = pd.concat([pos_s2data, neg_s2data],ignore_index=True)\r\n",
        "s2data = s2data.sample(frac=1)\r\n",
        "s2data\r\n",
        "\r\n",
        "X_train = s2data.drop(['subject','sessionIndex','rep','output'],axis = 1)\r\n",
        "y_train = s2data['output']\r\n",
        "\r\n",
        "s2data = pd.concat([pos_s2test_data, neg_s2test_data],ignore_index=True)\r\n",
        "s2data = s2data.sample(frac=1)\r\n",
        "s2data\r\n",
        "\r\n",
        "X_test = s2data.drop(['subject','sessionIndex','rep','output'],axis = 1)\r\n",
        "y_test = s2data['output']\r\n"
      ],
      "execution_count": 47,
      "outputs": [
        {
          "output_type": "stream",
          "text": [
            "/usr/local/lib/python3.6/dist-packages/ipykernel_launcher.py:2: SettingWithCopyWarning: \n",
            "A value is trying to be set on a copy of a slice from a DataFrame.\n",
            "Try using .loc[row_indexer,col_indexer] = value instead\n",
            "\n",
            "See the caveats in the documentation: https://pandas.pydata.org/pandas-docs/stable/user_guide/indexing.html#returning-a-view-versus-a-copy\n",
            "  \n",
            "/usr/local/lib/python3.6/dist-packages/ipykernel_launcher.py:8: SettingWithCopyWarning: \n",
            "A value is trying to be set on a copy of a slice from a DataFrame.\n",
            "Try using .loc[row_indexer,col_indexer] = value instead\n",
            "\n",
            "See the caveats in the documentation: https://pandas.pydata.org/pandas-docs/stable/user_guide/indexing.html#returning-a-view-versus-a-copy\n",
            "  \n"
          ],
          "name": "stderr"
        }
      ]
    },
    {
      "cell_type": "code",
      "metadata": {
        "colab": {
          "base_uri": "https://localhost:8080/"
        },
        "id": "FszxkFSAQ1OK",
        "outputId": "26436cd4-5f0d-4c43-9cc7-1593c3a639fe"
      },
      "source": [
        "#model = SVC(kernel='rbf') 0.8811\r\n",
        "#model = SVC(kernel='poly') 0.8712\r\n",
        "#model = SVC(kernel='linear') 0.811\r\n",
        "#model = SVC(kernel='sigmoid') Bad Performance\r\n",
        "\r\n",
        "model.fit(X_train,y_train)\r\n",
        "model.score(X_test,y_test)"
      ],
      "execution_count": 56,
      "outputs": [
        {
          "output_type": "execute_result",
          "data": {
            "text/plain": [
              "0.8625"
            ]
          },
          "metadata": {
            "tags": []
          },
          "execution_count": 56
        }
      ]
    },
    {
      "cell_type": "markdown",
      "metadata": {
        "id": "TQOiNLsFVbw4"
      },
      "source": [
        "# **MULTICLASS SVM**"
      ]
    },
    {
      "cell_type": "markdown",
      "metadata": {
        "id": "q95_qK3YVjxF"
      },
      "source": [
        "# **Splitting 300-100** "
      ]
    },
    {
      "cell_type": "code",
      "metadata": {
        "colab": {
          "base_uri": "https://localhost:8080/"
        },
        "id": "FUsizWguSUX3",
        "outputId": "98e75552-f6ed-4b9a-e22c-dd8f4529caf1"
      },
      "source": [
        "df2 = pd.read_csv(\"DSL-StrongPasswordData.csv\")\r\n",
        "df2.head()\r\n",
        "print(int(df2.iloc[2].subject[2:4]))\r\n",
        "converted_col = df2.subject.apply(lambda i: int(i[2:4]) )\r\n",
        "converted_col.head()"
      ],
      "execution_count": 57,
      "outputs": [
        {
          "output_type": "stream",
          "text": [
            "2\n"
          ],
          "name": "stdout"
        },
        {
          "output_type": "execute_result",
          "data": {
            "text/plain": [
              "0    2\n",
              "1    2\n",
              "2    2\n",
              "3    2\n",
              "4    2\n",
              "Name: subject, dtype: int64"
            ]
          },
          "metadata": {
            "tags": []
          },
          "execution_count": 57
        }
      ]
    },
    {
      "cell_type": "code",
      "metadata": {
        "colab": {
          "base_uri": "https://localhost:8080/",
          "height": 215
        },
        "id": "sBBakLsVV-xP",
        "outputId": "dae49a25-7fe6-4488-819d-3d579fc0bcaf"
      },
      "source": [
        "df2 = df2.drop(['subject','sessionIndex','rep'],axis = 1)\r\n",
        "df2['subject'] = converted_col\r\n",
        "df2.head()"
      ],
      "execution_count": 58,
      "outputs": [
        {
          "output_type": "execute_result",
          "data": {
            "text/html": [
              "<div>\n",
              "<style scoped>\n",
              "    .dataframe tbody tr th:only-of-type {\n",
              "        vertical-align: middle;\n",
              "    }\n",
              "\n",
              "    .dataframe tbody tr th {\n",
              "        vertical-align: top;\n",
              "    }\n",
              "\n",
              "    .dataframe thead th {\n",
              "        text-align: right;\n",
              "    }\n",
              "</style>\n",
              "<table border=\"1\" class=\"dataframe\">\n",
              "  <thead>\n",
              "    <tr style=\"text-align: right;\">\n",
              "      <th></th>\n",
              "      <th>H.period</th>\n",
              "      <th>DD.period.t</th>\n",
              "      <th>UD.period.t</th>\n",
              "      <th>H.t</th>\n",
              "      <th>DD.t.i</th>\n",
              "      <th>UD.t.i</th>\n",
              "      <th>H.i</th>\n",
              "      <th>DD.i.e</th>\n",
              "      <th>UD.i.e</th>\n",
              "      <th>H.e</th>\n",
              "      <th>DD.e.five</th>\n",
              "      <th>UD.e.five</th>\n",
              "      <th>H.five</th>\n",
              "      <th>DD.five.Shift.r</th>\n",
              "      <th>UD.five.Shift.r</th>\n",
              "      <th>H.Shift.r</th>\n",
              "      <th>DD.Shift.r.o</th>\n",
              "      <th>UD.Shift.r.o</th>\n",
              "      <th>H.o</th>\n",
              "      <th>DD.o.a</th>\n",
              "      <th>UD.o.a</th>\n",
              "      <th>H.a</th>\n",
              "      <th>DD.a.n</th>\n",
              "      <th>UD.a.n</th>\n",
              "      <th>H.n</th>\n",
              "      <th>DD.n.l</th>\n",
              "      <th>UD.n.l</th>\n",
              "      <th>H.l</th>\n",
              "      <th>DD.l.Return</th>\n",
              "      <th>UD.l.Return</th>\n",
              "      <th>H.Return</th>\n",
              "      <th>subject</th>\n",
              "    </tr>\n",
              "  </thead>\n",
              "  <tbody>\n",
              "    <tr>\n",
              "      <th>0</th>\n",
              "      <td>0.1491</td>\n",
              "      <td>0.3979</td>\n",
              "      <td>0.2488</td>\n",
              "      <td>0.1069</td>\n",
              "      <td>0.1674</td>\n",
              "      <td>0.0605</td>\n",
              "      <td>0.1169</td>\n",
              "      <td>0.2212</td>\n",
              "      <td>0.1043</td>\n",
              "      <td>0.1417</td>\n",
              "      <td>1.1885</td>\n",
              "      <td>1.0468</td>\n",
              "      <td>0.1146</td>\n",
              "      <td>1.6055</td>\n",
              "      <td>1.4909</td>\n",
              "      <td>0.1067</td>\n",
              "      <td>0.7590</td>\n",
              "      <td>0.6523</td>\n",
              "      <td>0.1016</td>\n",
              "      <td>0.2136</td>\n",
              "      <td>0.1120</td>\n",
              "      <td>0.1349</td>\n",
              "      <td>0.1484</td>\n",
              "      <td>0.0135</td>\n",
              "      <td>0.0932</td>\n",
              "      <td>0.3515</td>\n",
              "      <td>0.2583</td>\n",
              "      <td>0.1338</td>\n",
              "      <td>0.3509</td>\n",
              "      <td>0.2171</td>\n",
              "      <td>0.0742</td>\n",
              "      <td>2</td>\n",
              "    </tr>\n",
              "    <tr>\n",
              "      <th>1</th>\n",
              "      <td>0.1111</td>\n",
              "      <td>0.3451</td>\n",
              "      <td>0.2340</td>\n",
              "      <td>0.0694</td>\n",
              "      <td>0.1283</td>\n",
              "      <td>0.0589</td>\n",
              "      <td>0.0908</td>\n",
              "      <td>0.1357</td>\n",
              "      <td>0.0449</td>\n",
              "      <td>0.0829</td>\n",
              "      <td>1.1970</td>\n",
              "      <td>1.1141</td>\n",
              "      <td>0.0689</td>\n",
              "      <td>0.7822</td>\n",
              "      <td>0.7133</td>\n",
              "      <td>0.1570</td>\n",
              "      <td>0.7877</td>\n",
              "      <td>0.6307</td>\n",
              "      <td>0.1066</td>\n",
              "      <td>0.1684</td>\n",
              "      <td>0.0618</td>\n",
              "      <td>0.1412</td>\n",
              "      <td>0.2558</td>\n",
              "      <td>0.1146</td>\n",
              "      <td>0.1146</td>\n",
              "      <td>0.2642</td>\n",
              "      <td>0.1496</td>\n",
              "      <td>0.0839</td>\n",
              "      <td>0.2756</td>\n",
              "      <td>0.1917</td>\n",
              "      <td>0.0747</td>\n",
              "      <td>2</td>\n",
              "    </tr>\n",
              "    <tr>\n",
              "      <th>2</th>\n",
              "      <td>0.1328</td>\n",
              "      <td>0.2072</td>\n",
              "      <td>0.0744</td>\n",
              "      <td>0.0731</td>\n",
              "      <td>0.1291</td>\n",
              "      <td>0.0560</td>\n",
              "      <td>0.0821</td>\n",
              "      <td>0.1542</td>\n",
              "      <td>0.0721</td>\n",
              "      <td>0.0808</td>\n",
              "      <td>1.0408</td>\n",
              "      <td>0.9600</td>\n",
              "      <td>0.0892</td>\n",
              "      <td>0.6203</td>\n",
              "      <td>0.5311</td>\n",
              "      <td>0.1454</td>\n",
              "      <td>0.7195</td>\n",
              "      <td>0.5741</td>\n",
              "      <td>0.1365</td>\n",
              "      <td>0.2931</td>\n",
              "      <td>0.1566</td>\n",
              "      <td>0.1621</td>\n",
              "      <td>0.2332</td>\n",
              "      <td>0.0711</td>\n",
              "      <td>0.1172</td>\n",
              "      <td>0.2705</td>\n",
              "      <td>0.1533</td>\n",
              "      <td>0.1085</td>\n",
              "      <td>0.2847</td>\n",
              "      <td>0.1762</td>\n",
              "      <td>0.0945</td>\n",
              "      <td>2</td>\n",
              "    </tr>\n",
              "    <tr>\n",
              "      <th>3</th>\n",
              "      <td>0.1291</td>\n",
              "      <td>0.2515</td>\n",
              "      <td>0.1224</td>\n",
              "      <td>0.1059</td>\n",
              "      <td>0.2495</td>\n",
              "      <td>0.1436</td>\n",
              "      <td>0.1040</td>\n",
              "      <td>0.2038</td>\n",
              "      <td>0.0998</td>\n",
              "      <td>0.0900</td>\n",
              "      <td>1.0556</td>\n",
              "      <td>0.9656</td>\n",
              "      <td>0.0913</td>\n",
              "      <td>1.2564</td>\n",
              "      <td>1.1651</td>\n",
              "      <td>0.1454</td>\n",
              "      <td>0.7550</td>\n",
              "      <td>0.6096</td>\n",
              "      <td>0.0956</td>\n",
              "      <td>0.1530</td>\n",
              "      <td>0.0574</td>\n",
              "      <td>0.1457</td>\n",
              "      <td>0.1629</td>\n",
              "      <td>0.0172</td>\n",
              "      <td>0.0866</td>\n",
              "      <td>0.2341</td>\n",
              "      <td>0.1475</td>\n",
              "      <td>0.0845</td>\n",
              "      <td>0.3232</td>\n",
              "      <td>0.2387</td>\n",
              "      <td>0.0813</td>\n",
              "      <td>2</td>\n",
              "    </tr>\n",
              "    <tr>\n",
              "      <th>4</th>\n",
              "      <td>0.1249</td>\n",
              "      <td>0.2317</td>\n",
              "      <td>0.1068</td>\n",
              "      <td>0.0895</td>\n",
              "      <td>0.1676</td>\n",
              "      <td>0.0781</td>\n",
              "      <td>0.0903</td>\n",
              "      <td>0.1589</td>\n",
              "      <td>0.0686</td>\n",
              "      <td>0.0805</td>\n",
              "      <td>0.8629</td>\n",
              "      <td>0.7824</td>\n",
              "      <td>0.0742</td>\n",
              "      <td>0.8955</td>\n",
              "      <td>0.8213</td>\n",
              "      <td>0.1243</td>\n",
              "      <td>0.7632</td>\n",
              "      <td>0.6389</td>\n",
              "      <td>0.0430</td>\n",
              "      <td>0.1975</td>\n",
              "      <td>0.1545</td>\n",
              "      <td>0.1312</td>\n",
              "      <td>0.1582</td>\n",
              "      <td>0.0270</td>\n",
              "      <td>0.0884</td>\n",
              "      <td>0.2517</td>\n",
              "      <td>0.1633</td>\n",
              "      <td>0.0903</td>\n",
              "      <td>0.2517</td>\n",
              "      <td>0.1614</td>\n",
              "      <td>0.0818</td>\n",
              "      <td>2</td>\n",
              "    </tr>\n",
              "  </tbody>\n",
              "</table>\n",
              "</div>"
            ],
            "text/plain": [
              "   H.period  DD.period.t  UD.period.t  ...  UD.l.Return  H.Return  subject\n",
              "0    0.1491       0.3979       0.2488  ...       0.2171    0.0742        2\n",
              "1    0.1111       0.3451       0.2340  ...       0.1917    0.0747        2\n",
              "2    0.1328       0.2072       0.0744  ...       0.1762    0.0945        2\n",
              "3    0.1291       0.2515       0.1224  ...       0.2387    0.0813        2\n",
              "4    0.1249       0.2317       0.1068  ...       0.1614    0.0818        2\n",
              "\n",
              "[5 rows x 32 columns]"
            ]
          },
          "metadata": {
            "tags": []
          },
          "execution_count": 58
        }
      ]
    },
    {
      "cell_type": "code",
      "metadata": {
        "colab": {
          "base_uri": "https://localhost:8080/"
        },
        "id": "UNB85Y3dWIgs",
        "outputId": "7276f94b-29e5-4b3f-b801-42cc6d5c4973"
      },
      "source": [
        "Test_data = pd.DataFrame()\r\n",
        "Train_data = pd.DataFrame()\r\n",
        "start = 0\r\n",
        "end = 350\r\n",
        "for i in range (51):\r\n",
        "    Train_data = Train_data.append(df2[start:end])\r\n",
        "    Test_data = Test_data.append(df2[end:end+50])\r\n",
        "    start = end+50\r\n",
        "    end = start+350\r\n",
        "print(len(Train_data))\r\n",
        "print(len(Test_data))   \r\n",
        "Train_data = Train_data.sample(frac = 1)\r\n",
        "Test_data = Test_data.sample(frac = 1)"
      ],
      "execution_count": 84,
      "outputs": [
        {
          "output_type": "stream",
          "text": [
            "17850\n",
            "2550\n"
          ],
          "name": "stdout"
        }
      ]
    },
    {
      "cell_type": "code",
      "metadata": {
        "id": "HWplOtNfYY-3"
      },
      "source": [
        "X_train = Train_data.drop(['subject'],axis = 1)\r\n",
        "y_train = Train_data['subject']\r\n",
        "X_test = Test_data.drop(['subject'],axis = 1)\r\n",
        "y_test = Test_data['subject']"
      ],
      "execution_count": 85,
      "outputs": []
    },
    {
      "cell_type": "code",
      "metadata": {
        "colab": {
          "base_uri": "https://localhost:8080/"
        },
        "id": "Df9DGY0wZGk4",
        "outputId": "06bc0bec-9e32-4d7f-e590-74c03cf2729d"
      },
      "source": [
        "#model = SVC(kernel='rbf') 0.7870\r\n",
        "#model = SVC(kernel='linear') 0.7431\r\n",
        "\r\n",
        "model.fit(X_train,y_train)\r\n",
        "model.score(X_test,y_test)"
      ],
      "execution_count": 86,
      "outputs": [
        {
          "output_type": "execute_result",
          "data": {
            "text/plain": [
              "0.7870588235294118"
            ]
          },
          "metadata": {
            "tags": []
          },
          "execution_count": 86
        }
      ]
    },
    {
      "cell_type": "markdown",
      "metadata": {
        "id": "p02Frue5beS0"
      },
      "source": [
        "## **One Class SVM**"
      ]
    },
    {
      "cell_type": "code",
      "metadata": {
        "id": "USu9xXZpZQGe"
      },
      "source": [
        "data = pd.read_csv(\"DSL-StrongPasswordData.csv\")\r\n",
        "subjects = data[\"subject\"].unique()"
      ],
      "execution_count": 88,
      "outputs": []
    },
    {
      "cell_type": "code",
      "metadata": {
        "id": "meUZ9hQCb8Zd"
      },
      "source": [
        "def evaluateEER(user_scores, imposter_scores):\r\n",
        "    #print user_scores\r\n",
        "    labels = [0]*len(user_scores) + [1]*len(imposter_scores)\r\n",
        "    fpr, tpr, thresholds = roc_curve(labels, user_scores + imposter_scores)\r\n",
        "    missrates = 1 - tpr\r\n",
        "    farates = fpr\r\n",
        "    dists = missrates - farates\r\n",
        "    idx1 = np.argmin(dists[dists >= 0])\r\n",
        "    idx2 = np.argmax(dists[dists < 0])\r\n",
        "    x = [missrates[idx1], farates[idx1]]\r\n",
        "    y = [missrates[idx2], farates[idx2]]\r\n",
        "    a = ( x[0] - x[1] ) / ( y[1] - x[1] - y[0] + x[0] )\r\n",
        "    eer = x[0] + a * ( y[0] - x[0] )\r\n",
        "    return eer"
      ],
      "execution_count": 89,
      "outputs": []
    },
    {
      "cell_type": "code",
      "metadata": {
        "id": "CuEnfh2Ob-mZ"
      },
      "source": [
        "def evaluate():\r\n",
        "    eers = []\r\n",
        "    for subject in subjects:\r\n",
        "            \r\n",
        "        user_scores = []\r\n",
        "        imposter_scores = []\r\n",
        "    \r\n",
        "        # Consider current subject as genuine and rest as imposters\r\n",
        "        genuine_user_data = data.loc[data.subject == subject, \"H.period\":\"H.Return\"]\r\n",
        "        imposter_data = data.loc[data.subject != subject, :]\r\n",
        "    \r\n",
        "        # genuine user's first 200 time vectors for training\r\n",
        "        train = genuine_user_data[:200]\r\n",
        "        train = train.values\r\n",
        "        train = np.array(train)\r\n",
        "        #labels = np.ones(len(train),dtype = np.float64)\r\n",
        "        #print type(labels[0])\r\n",
        "        test_genuine = genuine_user_data[200:]\r\n",
        "        test_genuine = test_genuine.values\r\n",
        "        test_genuine = np.array(test_genuine)\r\n",
        "        test_imposter = imposter_data.groupby(\"subject\").head(5).loc[:, \"H.period\":\"H.Return\"]\r\n",
        "        test_imposter = test_imposter.values\r\n",
        "        test_imposter = np.array(test_imposter)\r\n",
        "        clf = OneClassSVM(kernel='poly',gamma=26)\r\n",
        "        clf.fit(train)\r\n",
        "        #print len(test_genuine)\r\n",
        "        #print len(test_imposter)\r\n",
        "        user_scores = -clf.decision_function(test_genuine)\r\n",
        "        imposter_scores = -clf.decision_function(test_imposter)\r\n",
        "        user_scores = list(user_scores)\r\n",
        "        imposter_scores = list(imposter_scores)\r\n",
        "        eers.append(evaluateEER(user_scores, imposter_scores))\r\n",
        "    #print eers   \r\n",
        "    return np.mean(eers), np.std(eers)"
      ],
      "execution_count": 96,
      "outputs": []
    },
    {
      "cell_type": "code",
      "metadata": {
        "colab": {
          "base_uri": "https://localhost:8080/"
        },
        "id": "ZmPzyn90cCy1",
        "outputId": "741ff3ba-e5e0-4dc8-a838-5bd479ca1c6c"
      },
      "source": [
        "evaluate() \r\n",
        "# For RBF Kernel (0.12054244703221502, 0.058709278630758664)\r\n",
        "# For Linear Kernel (0.8161469845638643, 0.1510965776375408)\r\n",
        "# For Poly Kernel (0.8166892639378132, 0.14922221119496795)\r\n",
        "\r\n",
        "#Clearly RBF Kernel is best suited for all the cases"
      ],
      "execution_count": 97,
      "outputs": [
        {
          "output_type": "execute_result",
          "data": {
            "text/plain": [
              "(0.8166892639378132, 0.14922221119496795)"
            ]
          },
          "metadata": {
            "tags": []
          },
          "execution_count": 97
        }
      ]
    },
    {
      "cell_type": "code",
      "metadata": {
        "id": "VUK1S-gmcE78"
      },
      "source": [
        ""
      ],
      "execution_count": null,
      "outputs": []
    }
  ]
}